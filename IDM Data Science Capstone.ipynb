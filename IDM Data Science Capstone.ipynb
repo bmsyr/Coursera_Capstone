{
    "cells": [
        {
            "cell_type": "markdown",
            "metadata": {
                "collapsed": true
            },
            "source": "# IBM Data Science Capstone"
        },
        {
            "cell_type": "markdown",
            "metadata": {},
            "source": "## Districts of Moscow. Data Analysis\n"
        },
        {
            "cell_type": "markdown",
            "metadata": {},
            "source": "### By Bogdan S.\n----------------------"
        },
        {
            "cell_type": "markdown",
            "metadata": {},
            "source": "## *Introduction/Business Problem*"
        },
        {
            "cell_type": "markdown",
            "metadata": {},
            "source": "![alt text](https://i.weheart.moscow/w/2017/05/07173451/moscow-skyline.jpg)"
        },
        {
            "cell_type": "markdown",
            "metadata": {},
            "source": "### As each big city Moscoow has districts that differs from each other by their accommodation, prestigiousness and house values. The modern division of the city was set during the Soviet period of our history. The idea of my research is to look, which types of venues are popular within different parts of Moscow and see which reccomendations can be given to stakeholders that wants to set up a new place in Moscow: where and what should be done to attract local people.\n--------"
        },
        {
            "cell_type": "markdown",
            "metadata": {},
            "source": "## *Data*"
        },
        {
            "cell_type": "markdown",
            "metadata": {},
            "source": "### 1. Foursquare location data.   \nAs I observed earlier Foursquare has a lot of Data about venues in Moscow, that will help us to examine most popular venue types in each district.\n![alt text](http://www.orangesmile.com/common/img_city_maps/moscow-map-0.jpg)\n### 2. Moscow administrative data.\nAs many big cities all around the world Moscow has a lot of administrative data in open admission, which will help us to distinguish districts relying on its administrative quality.\n![alt text](https://www.researchgate.net/profile/Ilya_Kashnitsky/publication/303847650/figure/fig1/AS:372645280403457@1465856966513/Descriptive-maps-of-Moscow-districts-A-reference-map-of-administrative-division-B.png)\n### 3. Structured and unstructured data.\nAnother our task is to collect (and structure) data which will us represent prestigiousness of districts: average price of an apartment, average price of a square metre of an apartment and so on.\n![alt text](https://tech.eu/wp-content/uploads/2014/08/Moscow-Vacation-Rentals-Short-Term-Rentals-Airbnb1-1024x400.png)"
        },
        {
            "cell_type": "code",
            "execution_count": null,
            "metadata": {},
            "outputs": [],
            "source": ""
        }
    ],
    "metadata": {
        "kernelspec": {
            "display_name": "Python 3.6",
            "language": "python",
            "name": "python3"
        },
        "language_info": {
            "codemirror_mode": {
                "name": "ipython",
                "version": 3
            },
            "file_extension": ".py",
            "mimetype": "text/x-python",
            "name": "python",
            "nbconvert_exporter": "python",
            "pygments_lexer": "ipython3",
            "version": "3.6.8"
        }
    },
    "nbformat": 4,
    "nbformat_minor": 1
}